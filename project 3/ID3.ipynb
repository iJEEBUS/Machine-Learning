{
 "cells": [
  {
   "cell_type": "code",
   "execution_count": 587,
   "metadata": {},
   "outputs": [
    {
     "name": "stderr",
     "output_type": "stream",
     "text": [
      "ERROR:root:File `'Node.py'` not found.\n"
     ]
    }
   ],
   "source": [
    "import math\n",
    "from collections import Counter\n",
    "%run Node"
   ]
  },
  {
   "cell_type": "code",
   "execution_count": 31,
   "metadata": {},
   "outputs": [],
   "source": [
    "def read_data(file):\n",
    "    \"\"\"\n",
    "    Reads the data in and returns two lists: the attributes and the data\n",
    "    \n",
    "    returns:\n",
    "        attributes - list of the attributes\n",
    "        data - list of the data\n",
    "    \"\"\"\n",
    "    attributes = []\n",
    "    data = []\n",
    "\n",
    "    with open(file, 'r') as f:\n",
    "        attributes = f.readline().split(',')\n",
    "        data = f.readlines()\n",
    "        \n",
    "    attributes = [attr.strip() for attr in attributes]\n",
    "    data = [obs.rsplit()[0].split(',') for obs in data]\n",
    "    \n",
    "    return attributes, data"
   ]
  },
  {
   "cell_type": "code",
   "execution_count": 578,
   "metadata": {},
   "outputs": [
    {
     "name": "stdout",
     "output_type": "stream",
     "text": [
      "{'cost': {'low': 'poor', 'vhigh': {'trunk': {'small': 'poor', 'medium': 'poor', 'big': {'safety': {'medium': 'poor', 'low': {'doors': {'3': {'persons': {'4': 'poor', '2': {'maintenance': {'vhigh': None}}}}, '2': 'poor'}}, 'high': 'poor'}}}}, 'high': {'persons': {'4': 'poor', '2': {'trunk': {'small': 'poor', 'big': {'safety': {'medium': 'poor', 'low': {'maintenance': {'vhigh': {'doors': {'3': 'vgood'}}}}}}}}}}}}\n"
     ]
    }
   ],
   "source": [
    "def ID3(attributes, data, target, count):\n",
    "    \"\"\"\n",
    "    The main entry point of the algorithm that will be called recrusively to create the tree.\n",
    "    \n",
    "    Returns the final tree structure\n",
    "    \"\"\"\n",
    "    count += 1\n",
    "    data = data[:]\n",
    "    target_index = int(attributes.index(target))\n",
    "    values = [obs[target_index] for obs in data ]\n",
    "    # Check both base cases\n",
    "    # case one - all obs have same class\n",
    "    # return - that class\n",
    "    #\n",
    "    # case two - there are not attributes to test\n",
    "    # return - the most common class\n",
    "    \n",
    "    if not data or (len(attributes) - 1) <= 0:\n",
    "        return case_one(data)\n",
    "    elif values.count(values[0]) == len(values):\n",
    "        return values[0]\n",
    "    else:\n",
    "        # determine the best attribute by information gain\n",
    "        best = best_attribute(attributes, data, target)\n",
    "        \n",
    "        # create the tree with the best attribute at the root\n",
    "        decision_tree = {best:{}}\n",
    "        \n",
    "        # for each value in the attribute field, create a new node\n",
    "        for value in get_values(data, attributes, best):\n",
    "\n",
    "            # create a tree for current value\n",
    "            examples = get_examples(data, attributes, best, value)\n",
    "            new_attributes = attributes[:]\n",
    "            new_attributes.remove(best)\n",
    "            s_tree = ID3(new_attributes, examples, target, count)\n",
    "            \n",
    "            decision_tree[best][value] = s_tree\n",
    "\n",
    "        return decision_tree\n",
    "            \n",
    "attr_train, data_train = read_data('./data/train.txt')\n",
    "attr_test, data_test = read_data('./data/test.txt')\n",
    "# run the algorithm by passing the attributes and data\n",
    "tree = ID3(attr_train, data_train, 'classification', 0)\n",
    "\n",
    "test_model(attr_test, data_test, tree)\n",
    "\n",
    "print(tree)"
   ]
  },
  {
   "cell_type": "code",
   "execution_count": 576,
   "metadata": {},
   "outputs": [],
   "source": [
    "def test_model(data, attributes, decision_tree):\n",
    "    count = 0\n",
    "    result = \"\"\n",
    "    \n",
    "    for obs in data:\n",
    "        count += 1\n",
    "        temp_tree = tree.copy()\n",
    "        \n",
    "        while (isinstance(temp_tree, dict)):\n",
    "            root\n",
    "        "
   ]
  },
  {
   "cell_type": "code",
   "execution_count": 569,
   "metadata": {},
   "outputs": [],
   "source": [
    "def get_examples(data, attributes, best, val):\n",
    "    \"\"\"\n",
    "    Get the list of all values in the best column that match the value.\n",
    "    \"\"\"\n",
    "    examples = [[]]\n",
    "    match = []\n",
    "    i = attributes.index(best)\n",
    "    \n",
    "    # find value matches\n",
    "    for obs in data:\n",
    "        if obs[i] == val:\n",
    "            match = []\n",
    "        # add all values besides the best column\n",
    "        for j in range(len(obs)):\n",
    "            if j != i:\n",
    "                match.append(obs[j])\n",
    "        examples.append(match)\n",
    "    examples.remove([])\n",
    "    return examples"
   ]
  },
  {
   "cell_type": "code",
   "execution_count": 563,
   "metadata": {},
   "outputs": [],
   "source": [
    "def get_values(data, attributes, best):\n",
    "    \"\"\"\n",
    "    Get a list of values found in the best attribute column\n",
    "    of the data.\n",
    "    \n",
    "    Return\n",
    "        List of values found in the best attribute\n",
    "    \"\"\"\n",
    "    values = []\n",
    "    i = attributes.index(best)\n",
    "    for obs in data:\n",
    "        if obs[i] not in values:\n",
    "            values.append(obs[i])\n",
    "    return values"
   ]
  },
  {
   "cell_type": "code",
   "execution_count": 564,
   "metadata": {},
   "outputs": [],
   "source": [
    "def best_attribute(attributes, data, target):\n",
    "    \"\"\"\n",
    "    Determines the best attribute to split the tree at. This is determined\n",
    "    by the information gain that each attribute contributes to the entropy\n",
    "    of the system.\n",
    "    \n",
    "    Returns\n",
    "        best - str - attribute with most information gain\n",
    "    \"\"\"\n",
    "    best = attributes[0] # placeholder\n",
    "    max_gain = 0.0\n",
    "    attr_gain = 0.0\n",
    "    for a in attributes[:]:\n",
    "        attr_gain = gain(attributes, data, a, target)\n",
    "        if attr_gain > max_gain and a != 'classification':\n",
    "            max_gain = attr_gain\n",
    "            best = a\n",
    "        \n",
    "    return best"
   ]
  },
  {
   "cell_type": "code",
   "execution_count": 565,
   "metadata": {},
   "outputs": [],
   "source": [
    "def gain(attributes, data, a, target):\n",
    "    \"\"\"\n",
    "    Calcuates the gain of each attribute passed, negating the target\n",
    "    attribute. \n",
    "    \"\"\"\n",
    "    value_counts = {}\n",
    "    value_entropy = 0.0\n",
    "    \n",
    "    # index of the attribute\n",
    "    i = attributes.index(a)\n",
    "    \n",
    "    # get frequency of each value in the target attribute\n",
    "    for obs in data:\n",
    "        if (obs[i] in value_counts.keys()):\n",
    "            value_counts[obs[i]] += 1.0\n",
    "        else:\n",
    "            value_counts[obs[i]] = 1.0\n",
    "    \n",
    "    \n",
    "    # Now calculate the entropy of subsetted data for each unique value\n",
    "    # present in the target attribute\n",
    "    for value in value_counts.keys():\n",
    "        prob = float(value_counts[value]) / len(data)\n",
    "        \n",
    "        subsetted_data = [obs for obs in data if obs[i] == value]\n",
    "        value_entropy += prob * entropy(attributes, subsetted_data, target)\n",
    "        \n",
    "    return (entropy(attributes, data, target) - value_entropy)"
   ]
  },
  {
   "cell_type": "code",
   "execution_count": 566,
   "metadata": {},
   "outputs": [],
   "source": [
    "def entropy(attributes, data, target):\n",
    "    \"\"\"\n",
    "    Calculates the entropy of the data passed for the target attribute.\n",
    "    \"\"\"\n",
    "    value_counts = {}\n",
    "    value_entropy = 0.0\n",
    "    \n",
    "    # index of the attribute\n",
    "    i = attributes.index(target)\n",
    "    \n",
    "    # get frequency of each value in the target attribute\n",
    "    for obs in data:\n",
    "        if (obs[i] in value_counts.keys()):\n",
    "            value_counts[obs[i]] += 1.0\n",
    "        else:\n",
    "            value_counts[obs[i]] = 1.0\n",
    "            \n",
    "    # calculate entropy\n",
    "    for counts in value_counts.values():\n",
    "        prob = counts / len(data)\n",
    "        value_entropy += (-prob) * math.log(prob, 2)\n",
    "\n",
    "    return value_entropy"
   ]
  },
  {
   "cell_type": "code",
   "execution_count": 567,
   "metadata": {},
   "outputs": [],
   "source": [
    "def case_one(data):\n",
    "    \"\"\"\n",
    "    Check if all of the observations in the data have the same class.\n",
    "    \n",
    "    Returns\n",
    "        class - str - the only classification\n",
    "        OR\n",
    "        Nothing\n",
    "    \"\"\"\n",
    "    only_class = None\n",
    "    class_count = Counter()\n",
    "    for classification in data:\n",
    "        class_count[classification[-1]] += 1\n",
    "    \n",
    "    if len(class_count) == 1:\n",
    "        only_class = list(class_count)[0]\n",
    "        \n",
    "    return only_class"
   ]
  },
  {
   "cell_type": "code",
   "execution_count": null,
   "metadata": {},
   "outputs": [],
   "source": []
  },
  {
   "cell_type": "code",
   "execution_count": null,
   "metadata": {},
   "outputs": [],
   "source": []
  },
  {
   "cell_type": "code",
   "execution_count": null,
   "metadata": {},
   "outputs": [],
   "source": []
  },
  {
   "cell_type": "code",
   "execution_count": null,
   "metadata": {},
   "outputs": [],
   "source": []
  },
  {
   "cell_type": "code",
   "execution_count": null,
   "metadata": {},
   "outputs": [],
   "source": []
  },
  {
   "cell_type": "code",
   "execution_count": null,
   "metadata": {},
   "outputs": [],
   "source": []
  },
  {
   "cell_type": "code",
   "execution_count": null,
   "metadata": {},
   "outputs": [],
   "source": []
  }
 ],
 "metadata": {
  "kernelspec": {
   "display_name": "Python 3",
   "language": "python",
   "name": "python3"
  },
  "language_info": {
   "codemirror_mode": {
    "name": "ipython",
    "version": 3
   },
   "file_extension": ".py",
   "mimetype": "text/x-python",
   "name": "python",
   "nbconvert_exporter": "python",
   "pygments_lexer": "ipython3",
   "version": "3.7.2"
  }
 },
 "nbformat": 4,
 "nbformat_minor": 2
}
