{
 "cells": [
  {
   "cell_type": "markdown",
   "metadata": {},
   "source": [
    "## Decision Tree Classifier - Python\n",
    "##### Ron Rounsifer"
   ]
  },
  {
   "cell_type": "code",
   "execution_count": 130,
   "metadata": {},
   "outputs": [],
   "source": [
    "import pandas as pd # for dataframe\n",
    "from typing import NamedTuple # for struct of leaf\n",
    "import math # for log\n",
    "\n",
    "# the leaf type that will be used to build the tree\n",
    "class Leaf(NamedTuple):\n",
    "    attribute: str\n",
    "    classification: str\n",
    "    info_gain: float"
   ]
  },
  {
   "cell_type": "markdown",
   "metadata": {},
   "source": []
  },
  {
   "cell_type": "code",
   "execution_count": null,
   "metadata": {},
   "outputs": [],
   "source": []
  },
  {
   "cell_type": "code",
   "execution_count": null,
   "metadata": {},
   "outputs": [],
   "source": []
  },
  {
   "cell_type": "code",
   "execution_count": 260,
   "metadata": {},
   "outputs": [],
   "source": [
    "class Decision_Tree(object):\n",
    "    \n",
    "    def __init__(self):\n",
    "        self.df = None\n",
    "        self.entropy = 0.0\n",
    "        self.num_obs = 0\n",
    "        self.num_attr = 0\n",
    "        self.classes = []\n",
    "        \n",
    "    def __init__(self, data):\n",
    "        self.df = pd.read_csv(data)\n",
    "        self.num_obs = len(self.df)\n",
    "        self.num_attr = len(self.df.columns) - 1\n",
    "        self.classes = self.df['classification'].value_counts().keys()\n",
    "        self.entropy = 0.0\n",
    "        \n",
    "    def load_data(self, data):\n",
    "        self.df = pd.read_csv(data)\n",
    "        self.num_obs = len(self.df)\n",
    "        self.num_attr = len(self.df.columns) - 1\n",
    "        self.classes = self.df['classification'].value_counts().keys()\n",
    "        self.entropy = 0.0\n",
    "        \n",
    "    def case_one(self):\n",
    "        \n",
    "        # Case 1:\n",
    "        # if all of the conditions are the same, return that value\n",
    "        classes = self.df['classification'].unique()\n",
    "        if len(classes) == 1:\n",
    "            return Leaf(attribute=None, classification=classes[0], info_gain=None)\n",
    "        return False\n",
    "        \n",
    "    def case_two(self):\n",
    "        \n",
    "        # Case 2:\n",
    "        # if there are no attributes, return the most common occurrence\n",
    "        if len(self.df.columns) == 1:\n",
    "            return Leaf(attribute=None, classification=df['classification'].value_counts().keys()[0], info_gain=None)\n",
    "        return False\n",
    "        \n",
    "    def case_three(self):\n",
    "        \n",
    "        # Case 3:\n",
    "        # calculate the root\n",
    "        self.calculate_entropy()\n",
    "        root = self.calculate_root()\n",
    "        return False\n",
    "        \n",
    "        \n",
    "    def calculate_entropy(self):\n",
    "        \n",
    "        entropy = 0.0\n",
    "        for i in range(len(self.classes)):\n",
    "            x = (self.df['classification'].value_counts()[i] / self.num_obs)\n",
    "            \n",
    "            # we have to use base 4 since there are 4 possible classes\n",
    "            self.entropy -= (x * math.log(x, 4))\n",
    "        \n",
    "        \n",
    "    def calculate_root(self):\n",
    "        \n",
    "        # the info gain of each attribute\n",
    "        root = None\n",
    "        max_gain = ('', 0.0)\n",
    "        \n",
    "        # for each attribute, calculate the entropy\n",
    "        for i in range(1): # TODO change this to self.num_attr\n",
    "            new_gain = self.calculate_gain(self.df.columns[i])\n",
    "            if (new_gain[1] > max_gain[1]):\n",
    "                max_gain = new_gain;\n",
    "                \n",
    "        return Leaf(attribute=max_gain[0], classification=None, info_gain=max_gain[1])\n",
    "    \n",
    "    def calculate_gain(self, attr):\n",
    "        \"\"\"\n",
    "        This returns a tuple that contains the attr name and the the information gain.\n",
    "        Ex:\n",
    "            (\"doors\", 0.95)\n",
    "        \"\"\"\n",
    "        entropies = []\n",
    "        tot_sum = 0.0\n",
    "        # for each possible value\n",
    "        for i in range(len(self.df[attr].value_counts().keys())):\n",
    "            entropy = 0.0\n",
    "            value = self.df[attr].value_counts().keys()[i]\n",
    "            \n",
    "            # for each possible class\n",
    "            for j in range(len(self.classes)):\n",
    "                \n",
    "            print('For ', value, self.df[attr].value_counts()[value])\n",
    "            \n",
    "            \n",
    "        \n",
    "        \n",
    "        \n",
    "        gain = self.entropy - sum(entropies)\n",
    "        return (attr, gain)\n",
    "        \n",
    "    def run(self):\n",
    "        if tree == self.case_one():\n",
    "            return tree\n",
    "        elif tree == self.case_two():\n",
    "            return tree\n",
    "        else:\n",
    "            self.case_three()"
   ]
  },
  {
   "cell_type": "code",
   "execution_count": 261,
   "metadata": {},
   "outputs": [
    {
     "name": "stdout",
     "output_type": "stream",
     "text": [
      "For  high 320\n",
      "For  vhigh 309\n",
      "For  medium 309\n",
      "For  low 298\n"
     ]
    }
   ],
   "source": [
    "tree = Decision_Tree('./data/training.txt')\n",
    "tree.run()"
   ]
  },
  {
   "cell_type": "code",
   "execution_count": null,
   "metadata": {},
   "outputs": [],
   "source": []
  },
  {
   "cell_type": "code",
   "execution_count": null,
   "metadata": {},
   "outputs": [],
   "source": []
  }
 ],
 "metadata": {
  "kernelspec": {
   "display_name": "Python 3",
   "language": "python",
   "name": "python3"
  },
  "language_info": {
   "codemirror_mode": {
    "name": "ipython",
    "version": 3
   },
   "file_extension": ".py",
   "mimetype": "text/x-python",
   "name": "python",
   "nbconvert_exporter": "python",
   "pygments_lexer": "ipython3",
   "version": "3.7.2"
  }
 },
 "nbformat": 4,
 "nbformat_minor": 2
}
