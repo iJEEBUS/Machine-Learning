{
 "cells": [
  {
   "cell_type": "code",
   "execution_count": 14,
   "metadata": {},
   "outputs": [],
   "source": [
    "import pandas as pd\n",
    "import csv\n",
    "\n",
    "# loading training data into data frame\n",
    "all_data = pd.read_csv(\"./data/training.txt\", sep=\"\\n\")\n",
    "#all_data.head()"
   ]
  },
  {
   "cell_type": "code",
   "execution_count": 18,
   "metadata": {},
   "outputs": [],
   "source": [
    "'''\n",
    "1.0 Collect all words occurring in the sample documents\n",
    "'''\n",
    "# collect all distinct words\n",
    "vocab = set()\n",
    "num_rows = len(all_data.index)\n",
    "\n",
    "for row in range(num_rows):\n",
    "    for post in all_data.iloc[row]:\n",
    "        split_post = post.split()[1:]\n",
    "        for word in split_post:\n",
    "            vocab.add(word)"
   ]
  },
  {
   "cell_type": "code",
   "execution_count": 24,
   "metadata": {},
   "outputs": [],
   "source": [
    "'''\n",
    "2.0 Create a document dictionary where key is a class and values are all posts in that class\n",
    "'''\n",
    "docs = {}\n",
    "\n",
    "for row in range(num_rows):\n",
    "    for post in all_data.iloc[row]:\n",
    "        classification = post.split()[0]\n",
    "        only_content = ' '.join(post.split()[1:])\n",
    "        \n",
    "        if classification in docs.keys():\n",
    "            docs[classification].append(only_content) \n",
    "        else:\n",
    "            docs[classification] = [only_content]"
   ]
  },
  {
   "cell_type": "code",
   "execution_count": 29,
   "metadata": {},
   "outputs": [],
   "source": [
    "'''\n",
    "2.1 Generate the probability estimate of each class\n",
    "'''\n",
    "prob_estimates = {}\n",
    "\n",
    "for classification in docs.keys():\n",
    "    num_class_posts = len(docs[classification])\n",
    "    prob_estimates[classification] = (num_class_posts / num_rows)"
   ]
  },
  {
   "cell_type": "code",
   "execution_count": 38,
   "metadata": {},
   "outputs": [],
   "source": [
    "'''\n",
    "2.2 Create a single document per class.\n",
    "    Stored as tuple (n, text) where n is the number of word positions in text\n",
    "'''\n",
    "text = {}\n",
    "\n",
    "for classification in docs.keys():\n",
    "    combined_posts = ' '.join(docs[classification])\n",
    "    num_word_positions = len(combined_posts.split())\n",
    "    text[classification] = (num_word_positions, combined_posts)"
   ]
  },
  {
   "cell_type": "code",
   "execution_count": 46,
   "metadata": {},
   "outputs": [
    {
     "name": "stdout",
     "output_type": "stream",
     "text": [
      "0.017686445639393297\n"
     ]
    }
   ],
   "source": [
    "'''\n",
    "2.3 determine the number of times each unique word appears in each Text \n",
    "'''\n",
    "word_occurrence_estimate = {}\n",
    "\n",
    "for word in ['and']:\n",
    "    num_occurences = 0\n",
    "    for classification in ['religion']: #text.keys():\n",
    "        num_occurences = text[classification][1].count(word)\n",
    "        estimate = (num_occurences + 1) / (text[classification][0] + len(vocab))\n",
    "        try:\n",
    "            word_occurrence_estimate[word][classification] = estimate\n",
    "        except:\n",
    "            word_occurrence_estimate[word] = {}\n",
    "            word_occurrence_estimate[word][classification] = estimate\n",
    "            \n",
    "print(word_occurrence_estimate['and']['religion'])"
   ]
  },
  {
   "cell_type": "code",
   "execution_count": null,
   "metadata": {},
   "outputs": [],
   "source": [
    "'''\n",
    "3.0 Classification - classify new data\n",
    "'''\n",
    "class_answer = ''\n",
    "\n"
   ]
  }
 ],
 "metadata": {
  "kernelspec": {
   "display_name": "Python 3",
   "language": "python",
   "name": "python3"
  },
  "language_info": {
   "codemirror_mode": {
    "name": "ipython",
    "version": 3
   },
   "file_extension": ".py",
   "mimetype": "text/x-python",
   "name": "python",
   "nbconvert_exporter": "python",
   "pygments_lexer": "ipython3",
   "version": "3.7.2"
  }
 },
 "nbformat": 4,
 "nbformat_minor": 2
}
